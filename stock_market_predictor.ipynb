{
  "cells": [
    {
      "cell_type": "code",
      "execution_count": null,
      "metadata": {
        "id": "GJ5ZVQRuBoyA"
      },
      "outputs": [],
      "source": [
        "import yfinance as yf\n",
        "import datetime\n",
        "import sys\n",
        "import pandas as pd\n",
        "import matplotlib.pyplot as plt\n"
      ]
    },
    {
      "cell_type": "code",
      "source": [],
      "metadata": {
        "id": "ejwwdMCnqe5U"
      },
      "execution_count": null,
      "outputs": []
    },
    {
      "cell_type": "code",
      "execution_count": null,
      "metadata": {
        "id": "sYTglDVmDs4Z"
      },
      "outputs": [],
      "source": [
        "end_date = datetime.date.today()"
      ]
    },
    {
      "cell_type": "code",
      "execution_count": null,
      "metadata": {
        "id": "I8c-4f60N9L4"
      },
      "outputs": [],
      "source": [
        "# CHECKING THE DATE\n",
        "def valid_date(dt_string):\n",
        "    try:\n",
        "        datetime.datetime.strptime(dt_string, \"%Y-%m-%d\")\n",
        "        return True\n",
        "    except:\n",
        "        return False"
      ]
    },
    {
      "cell_type": "code",
      "execution_count": null,
      "metadata": {
        "id": "986vv0EXHWr2"
      },
      "outputs": [],
      "source": [
        "stock_name = input(\"Which Stock you want to visit?: \")\n",
        "start_date = input(\"What should be the starting date? (YYYY-MM-DD): \")\n",
        "while valid_date(start_date) == False:\n",
        "    start_date = input(\"Please input the date again(YYYY-MM-DD) or type 0 to exit: \")\n",
        "    if start_date == \"0\":\n",
        "        print(\"Session ended\")\n",
        "        sys.exit()"
      ]
    },
    {
      "cell_type": "code",
      "execution_count": null,
      "metadata": {
        "id": "LBQMh71kAJsb"
      },
      "outputs": [],
      "source": [
        "data = yf.download(stock_name, start=start_date, end=end_date)\n",
        "if data.empty:\n",
        "  print(\"Stock Name is incorrect\")\n",
        "  sys.exit()\n",
        "else:\n",
        "  print(\"Data downloaded successfully\")\n",
        "\n",
        "print(data)\n",
        "data['Low'].plot(figsize=(17, 8), fontsize=18, title=f'{stock_name} Close Prices')\n",
        "plt.xlabel(\"Date\", fontsize=14)\n",
        "plt.ylabel(\"Price (USD)\", fontsize=14)\n",
        "plt.grid()\n",
        "plt.show()"
      ]
    },
    {
      "cell_type": "code",
      "source": [
        "data = yf.download(stock_name, start=start_date, end=end_date)\n",
        "if data.empty:\n",
        "    print(\"Stock name is incorrect\")\n",
        "    sys.exit()\n",
        "else:\n",
        "    print(\"Data downloaded successfully\")\n",
        "# data['Average Price'] = (data['High'] + data['Low']) / 2\n",
        "# data['Average Price'].plot(figsize=(17, 8), fontsize=18, title=f'{stock_name} Average Daily Price (Open & Close)')\n",
        "# plt.xlabel(\"Date\", fontsize=14)\n",
        "# plt.ylabel(\"Price (USD)\", fontsize=14)\n",
        "# plt.grid()\n",
        "# plt.show()"
      ],
      "metadata": {
        "id": "n0KvpaiUW-Yf"
      },
      "execution_count": null,
      "outputs": []
    },
    {
      "cell_type": "code",
      "source": [
        "# Add 30-day moving average\n",
        "data['SMA_10'] = data['Close'].rolling(window=10).mean()\n",
        "\n",
        "# Add 100-day moving average\n",
        "data['SMA_30'] = data['Close'].rolling(window=30).mean()\n",
        "\n",
        "# Add 200-day moving average\n",
        "data['SMA_50'] = data['Close'].rolling(window=50).mean()\n",
        "\n",
        "\n",
        "data['SMA_20'] = data['Close'].rolling(window=20).mean()\n",
        "\n",
        "\n",
        "\n",
        "# Display the data with new features\n",
        "# print(data[['Close', 'SMA_10', 'SMA_30', 'SMA_50']].tail())\n",
        "# print(data)"
      ],
      "metadata": {
        "id": "fuH5Dxtjduj0"
      },
      "execution_count": null,
      "outputs": []
    },
    {
      "cell_type": "code",
      "source": [
        "data['EMA_10'] = data['Close'].ewm(span=10, adjust=False).mean()\n",
        "data['EMA_30'] = data['Close'].ewm(span=30, adjust=False).mean()\n",
        "data['EMA_50'] = data['Close'].ewm(span=50, adjust=False).mean()\n",
        "data = data.dropna()"
      ],
      "metadata": {
        "id": "-xpYu3dWkZtH"
      },
      "execution_count": null,
      "outputs": []
    },
    {
      "cell_type": "code",
      "source": [
        "data['Price Change'] = data['Close'].diff()\n",
        "data['Gain'] = data['Price Change'].where(data['Price Change'] > 0, 0)\n",
        "data['Loss'] = -data['Price Change'].where(data['Price Change'] < 0, 0)\n",
        "data['Avg Gain'] = data['Gain'].rolling(window=7).mean()\n",
        "data['Avg Loss'] = data['Loss'].rolling(window=7).mean()\n",
        "data['RS'] = data['Avg Gain'] / data['Avg Loss']\n",
        "data['RSI'] = 100 - (100 / (1 + data['RS']))\n",
        "print(data)"
      ],
      "metadata": {
        "id": "518-btg1meVp",
        "collapsed": true
      },
      "execution_count": null,
      "outputs": []
    },
    {
      "cell_type": "code",
      "source": [
        "data['STD_20'] = data['Close'].rolling(window=20).std()\n",
        "\n",
        "data['Upper_B'] = data['SMA_20'] + data['STD_20']*2\n",
        "data['Middle_B'] = data['SMA_20']\n",
        "data['Lower_B'] = data['SMA_20'] - data['STD_20']*2\n",
        "\n",
        "\n",
        "print(data)"
      ],
      "metadata": {
        "id": "eQv5n4U83Uld"
      },
      "execution_count": null,
      "outputs": []
    }
  ],
  "metadata": {
    "colab": {
      "provenance": []
    },
    "kernelspec": {
      "display_name": "Python 3",
      "name": "python3"
    },
    "language_info": {
      "name": "python"
    }
  },
  "nbformat": 4,
  "nbformat_minor": 0
}